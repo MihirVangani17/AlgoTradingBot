{
 "cells": [
  {
   "cell_type": "code",
   "execution_count": null,
   "metadata": {},
   "outputs": [],
   "source": [
    "import numpy as np\n",
    "import pandas as pd"
   ]
  },
  {
   "cell_type": "code",
   "execution_count": null,
   "metadata": {},
   "outputs": [],
   "source": [
    "def fun(df):\n",
    "    #file = open('model.txt', 'w')\n",
    "    diff = []\n",
    "    per = []\n",
    "    tot = 0\n",
    "    count = 0\n",
    "    for i in range(1,len(df)):\n",
    "        if(df['Close'][i-1] > df['Open'][i-1] and df['Close'][i] < df['Open'][i]):\n",
    "            count = count + 1\n",
    "            tot = tot+1\n",
    "        elif(df['Close'][i-1] > df['Open'][i-1] and df['Close'][i] > df['Open'][i]):\n",
    "            diff1 = df['Close'][i] - df['Open'][i]\n",
    "            per1 = diff1/df['Open'][i]\n",
    "            diff.append(diff1)\n",
    "            per.append(per1)\n",
    "            tot = tot+1\n",
    "            i = i+1\n",
    "    avg_diff = sum(diff)/len(diff)\n",
    "    avg_per = sum(per)/len(per)\n",
    "    return [avg_diff, avg_per, tot, count]\n",
    "            \n",
    "            "
   ]
  }
 ],
 "metadata": {
  "kernelspec": {
   "display_name": "Python 3.10.2 64-bit",
   "language": "python",
   "name": "python3"
  },
  "language_info": {
   "name": "python",
   "version": "3.10.2"
  },
  "orig_nbformat": 4,
  "vscode": {
   "interpreter": {
    "hash": "bbff8d2d78a13d097f48d7dde890829597d669cd45ece022ffacbd7925171044"
   }
  }
 },
 "nbformat": 4,
 "nbformat_minor": 2
}
