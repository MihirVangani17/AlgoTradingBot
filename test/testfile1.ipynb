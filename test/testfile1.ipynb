{
 "cells": [
  {
   "cell_type": "code",
   "execution_count": 1,
   "metadata": {},
   "outputs": [],
   "source": [
    "import yfinance as yf\n",
    "import pandas as pd"
   ]
  },
  {
   "cell_type": "code",
   "execution_count": 2,
   "metadata": {},
   "outputs": [
    {
     "data": {
      "text/plain": [
       "500002           ABB\n",
       "513023    NBVENTURES\n",
       "539524    LALPATHLAB\n",
       "539523         ALKEM\n",
       "539517         SXETF\n",
       "Name: Issuer Name, dtype: object"
      ]
     },
     "execution_count": 2,
     "metadata": {},
     "output_type": "execute_result"
    }
   ],
   "source": [
    "bseList = pd.read_csv('Equity.csv')\n",
    "bseList.head()\n",
    "bseList = bseList.sort_values('Status')\n",
    "bseList.head()\n",
    "tmp = bseList[\"Status\"]\n",
    "bseList = bseList['Issuer Name']\n",
    "bseList.head()"
   ]
  },
  {
   "cell_type": "code",
   "execution_count": null,
   "metadata": {},
   "outputs": [],
   "source": []
  },
  {
   "cell_type": "code",
   "execution_count": 5,
   "metadata": {},
   "outputs": [
    {
     "name": "stdout",
     "output_type": "stream",
     "text": [
      "2006-11-09 00:00:00\n"
     ]
    }
   ],
   "source": [
    "df = yf.Ticker(\"ALLCARGO.BO\")\n",
    "tmp = df.dividends\n",
    "type(tmp)\n",
    "print(tmp.index)"
   ]
  },
  {
   "cell_type": "code",
   "execution_count": 14,
   "metadata": {},
   "outputs": [
    {
     "name": "stdout",
     "output_type": "stream",
     "text": [
      "[*********************100%***********************]  1 of 1 completed\n",
      "                    Open          High           Low         Close  \\\n",
      "Date                                                                 \n",
      "2022-01-03  17387.150391  17646.650391  17383.300781  17625.699219   \n",
      "2022-01-04  17681.400391  17827.599609  17593.550781  17805.250000   \n",
      "2022-01-05  17820.099609  17944.699219  17748.849609  17925.250000   \n",
      "2022-01-06  17768.500000  17797.949219  17655.550781  17745.900391   \n",
      "2022-01-07  17797.599609  17905.000000  17704.550781  17812.699219   \n",
      "\n",
      "               Adj Close  Volume  \n",
      "Date                              \n",
      "2022-01-03  17625.699219  200500  \n",
      "2022-01-04  17805.250000  247400  \n",
      "2022-01-05  17925.250000  251500  \n",
      "2022-01-06  17745.900391  236500  \n",
      "2022-01-07  17812.699219  239300  \n"
     ]
    }
   ],
   "source": [
    "df = yf.download(\"^NSEI\", start = \"2022-01-01\", end=\"2022-02-01\")\n",
    "print(df.head())"
   ]
  },
  {
   "cell_type": "code",
   "execution_count": null,
   "metadata": {},
   "outputs": [],
   "source": []
  },
  {
   "cell_type": "code",
   "execution_count": 20,
   "metadata": {},
   "outputs": [
    {
     "name": "stdout",
     "output_type": "stream",
     "text": [
      "<class 'pandas.core.frame.DataFrame'>\n",
      "DatetimeIndex: 20 entries, 2022-01-03 to 2022-01-31\n",
      "Data columns (total 6 columns):\n",
      " #   Column     Non-Null Count  Dtype  \n",
      "---  ------     --------------  -----  \n",
      " 0   Open       20 non-null     float64\n",
      " 1   High       20 non-null     float64\n",
      " 2   Low        20 non-null     float64\n",
      " 3   Close      20 non-null     float64\n",
      " 4   Adj Close  20 non-null     float64\n",
      " 5   Volume     20 non-null     int64  \n",
      "dtypes: float64(5), int64(1)\n",
      "memory usage: 1.1 KB\n",
      "datetime64[ns]\n",
      "2022-01-04 00:00:00\n"
     ]
    },
    {
     "data": {
      "text/plain": [
       "pandas._libs.tslibs.timestamps.Timestamp"
      ]
     },
     "execution_count": 20,
     "metadata": {},
     "output_type": "execute_result"
    }
   ],
   "source": [
    "df.info()\n",
    "print(df.index.dtype)\n",
    "tmp = df.index[1]\n",
    "print(tmp)\n",
    "type(tmp)"
   ]
  }
 ],
 "metadata": {
  "interpreter": {
   "hash": "75b878d29b2567abdfbce9aa9d7e126514c382846022316aabaa09c00b47b422"
  },
  "kernelspec": {
   "display_name": "Python 3.9.7 ('myenv')",
   "language": "python",
   "name": "python3"
  },
  "language_info": {
   "codemirror_mode": {
    "name": "ipython",
    "version": 3
   },
   "file_extension": ".py",
   "mimetype": "text/x-python",
   "name": "python",
   "nbconvert_exporter": "python",
   "pygments_lexer": "ipython3",
   "version": "3.9.7"
  },
  "orig_nbformat": 4
 },
 "nbformat": 4,
 "nbformat_minor": 2
}
