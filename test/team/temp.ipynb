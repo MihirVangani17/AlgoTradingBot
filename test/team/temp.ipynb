{
 "cells": [
  {
   "cell_type": "code",
   "execution_count": 2,
   "metadata": {},
   "outputs": [],
   "source": [
    "import time\n"
   ]
  },
  {
   "cell_type": "code",
   "execution_count": 13,
   "metadata": {},
   "outputs": [
    {
     "name": "stdout",
     "output_type": "stream",
     "text": [
      "[1, 1, 1]\n",
      "[1, 1, 1, 1]\n"
     ]
    },
    {
     "ename": "KeyboardInterrupt",
     "evalue": "",
     "output_type": "error",
     "traceback": [
      "\u001b[1;31m---------------------------------------------------------------------------\u001b[0m",
      "\u001b[1;31mKeyboardInterrupt\u001b[0m                         Traceback (most recent call last)",
      "Cell \u001b[1;32mIn[13], line 5\u001b[0m\n\u001b[0;32m      3\u001b[0m \u001b[39mprint\u001b[39m(data)\n\u001b[0;32m      4\u001b[0m data\u001b[39m.\u001b[39mappend(\u001b[39m1\u001b[39m)\n\u001b[1;32m----> 5\u001b[0m time\u001b[39m.\u001b[39;49msleep(\u001b[39m2\u001b[39;49m)\n",
      "\u001b[1;31mKeyboardInterrupt\u001b[0m: "
     ]
    }
   ],
   "source": [
    "data = [1,1,1]\n",
    "for i in range(0,):\n",
    "    print(data)\n",
    "    data.append(1)\n",
    "    time.sleep(2)"
   ]
  },
  {
   "cell_type": "code",
   "execution_count": 5,
   "metadata": {},
   "outputs": [
    {
     "name": "stdout",
     "output_type": "stream",
     "text": [
      "2023-05-18\n"
     ]
    }
   ],
   "source": [
    "from datetime import date\n",
    "\n",
    "# Get today's date\n",
    "today = date.today()\n",
    "\n",
    "# Print today's date\n",
    "print(today)"
   ]
  },
  {
   "cell_type": "code",
   "execution_count": 51,
   "metadata": {},
   "outputs": [
    {
     "name": "stdout",
     "output_type": "stream",
     "text": [
      "-1.300228\n"
     ]
    }
   ],
   "source": [
    "import datetime\n",
    "\n",
    "target_time = datetime.time(12, 45)  # Adjust this to the desired time\n",
    "\n",
    "time_to_add = datetime.timedelta(minutes=1)  # Adjust this to the desired duration\n",
    "\n",
    "target_time = (datetime.datetime.combine(datetime.date.today(), target_time) + time_to_add).time()\n",
    "\n",
    "current_time = datetime.datetime.now()\n",
    "current_time = current_time.time()\n",
    "\n",
    "target_datetime = datetime.datetime.combine(datetime.date.today(), target_time)\n",
    "current_datetime = datetime.datetime.combine(datetime.date.today(), current_time)\n",
    "\n",
    "time_difference = target_datetime - current_datetime\n",
    "time_difference_seconds = time_difference.total_seconds()\n",
    "print(time_difference_seconds)\n"
   ]
  }
 ],
 "metadata": {
  "kernelspec": {
   "display_name": "myenv",
   "language": "python",
   "name": "python3"
  },
  "language_info": {
   "codemirror_mode": {
    "name": "ipython",
    "version": 3
   },
   "file_extension": ".py",
   "mimetype": "text/x-python",
   "name": "python",
   "nbconvert_exporter": "python",
   "pygments_lexer": "ipython3",
   "version": "3.11.2"
  },
  "orig_nbformat": 4
 },
 "nbformat": 4,
 "nbformat_minor": 2
}
